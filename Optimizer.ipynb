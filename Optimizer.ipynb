{
 "cells": [
  {
   "cell_type": "code",
   "execution_count": 1,
   "metadata": {},
   "outputs": [
    {
     "name": "stderr",
     "output_type": "stream",
     "text": [
      "/usr/lib64/python2.7/site-packages/h5py/__init__.py:36: FutureWarning: Conversion of the second argument of issubdtype from `float` to `np.floating` is deprecated. In future, it will be treated as `np.float64 == np.dtype(float).type`.\n",
      "  from ._conv import register_converters as _register_converters\n"
     ]
    }
   ],
   "source": [
    "import tensorflow as tf\n",
    "import numpy as np"
   ]
  },
  {
   "cell_type": "code",
   "execution_count": 2,
   "metadata": {},
   "outputs": [],
   "source": [
    "def createData(dataNum,w,b,sigma):  \n",
    "    train_x = np.arange(dataNum)  \n",
    "    train_y = w * train_x + b + np.random.randn() * sigma\n",
    "    print(train_x)\n",
    "    #print(train_x.shape)\n",
    "    #print(train_y.shape)\n",
    "    return train_x,train_y  "
   ]
  },
  {
   "cell_type": "code",
   "execution_count": 3,
   "metadata": {},
   "outputs": [],
   "source": [
    "def llrr(train_x,train_y,epoch=50000,lr=0.001):\n",
    "    with tf.variable_scope('graph', reuse=tf.AUTO_REUSE):\n",
    "        x = tf.placeholder(tf.float32, name='x')\n",
    "        y = tf.placeholder(tf.float32, name='y')\n",
    "        w = tf.Variable(tf.random_normal([1]), name='w')\n",
    "        b = tf.Variable(tf.random_normal([1]), name='b')\n",
    "\n",
    "        pred = tf.add(tf.multiply(x, w, name='product'), b, name='pred')\n",
    "        loss = tf.reduce_sum(tf.pow(pred - y, 2, name='diff_square'), name='loss')\n",
    "\n",
    "        #optimizer = tf.train.AdamOptimizer(lr).minimize(loss)\n",
    "        train_op = tf.train.AdamOptimizer(lr)\n",
    "        grads_and_vars = train_op.compute_gradients(loss)\n",
    "        print '--------------------------------------'\n",
    "        for item in grads_and_vars:\n",
    "            print item\n",
    "            print '--------------------------------------'\n",
    "        return\n",
    "        optimizer = train_op.apply_gradients(grads_and_vars)\n",
    "    \n",
    "    with tf.Session() as sess:\n",
    "        sess.run(tf.global_variables_initializer())\n",
    "        for i in range(1,epoch+1):\n",
    "            cost, _ = sess.run([loss, optimizer],{x:train_x,y:train_y})\n",
    "            if i % 1000 == 0:\n",
    "                print(\"%s : %s\" % (i, cost))\n",
    "        ww = sess.run(w)\n",
    "        bb = sess.run(b)\n",
    "        print(ww)\n",
    "        print(bb)"
   ]
  },
  {
   "cell_type": "code",
   "execution_count": 4,
   "metadata": {},
   "outputs": [
    {
     "name": "stdout",
     "output_type": "stream",
     "text": [
      "[ 0  1  2  3  4  5  6  7  8  9 10 11 12 13 14 15 16 17 18 19 20 21 22 23\n",
      " 24 25 26 27 28 29 30 31 32 33 34 35 36 37 38 39 40 41 42 43 44 45 46 47\n",
      " 48 49]\n",
      "--------------------------------------\n",
      "(<tf.Tensor 'graph/gradients/graph/product_grad/tuple/control_dependency_1:0' shape=(1,) dtype=float32>, <tf.Variable 'graph/w:0' shape=(1,) dtype=float32_ref>)\n",
      "--------------------------------------\n",
      "(<tf.Tensor 'graph/gradients/graph/pred_grad/tuple/control_dependency_1:0' shape=(1,) dtype=float32>, <tf.Variable 'graph/b:0' shape=(1,) dtype=float32_ref>)\n",
      "--------------------------------------\n"
     ]
    }
   ],
   "source": [
    "train_x,train_y = createData(50,2.0,7.0,0.01)  \n",
    "llrr(train_x,train_y,20000)"
   ]
  },
  {
   "cell_type": "code",
   "execution_count": null,
   "metadata": {
    "collapsed": true
   },
   "outputs": [],
   "source": []
  }
 ],
 "metadata": {
  "kernelspec": {
   "display_name": "Python 2",
   "language": "python",
   "name": "python2"
  },
  "language_info": {
   "codemirror_mode": {
    "name": "ipython",
    "version": 2
   },
   "file_extension": ".py",
   "mimetype": "text/x-python",
   "name": "python",
   "nbconvert_exporter": "python",
   "pygments_lexer": "ipython2",
   "version": "2.7.5"
  }
 },
 "nbformat": 4,
 "nbformat_minor": 2
}
