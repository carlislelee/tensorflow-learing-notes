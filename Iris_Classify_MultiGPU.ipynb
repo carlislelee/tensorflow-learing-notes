{
 "cells": [
  {
   "cell_type": "code",
   "execution_count": 1,
   "metadata": {},
   "outputs": [
    {
     "name": "stderr",
     "output_type": "stream",
     "text": [
      "/usr/lib64/python2.7/site-packages/h5py/__init__.py:36: FutureWarning: Conversion of the second argument of issubdtype from `float` to `np.floating` is deprecated. In future, it will be treated as `np.float64 == np.dtype(float).type`.\n",
      "  from ._conv import register_converters as _register_converters\n"
     ]
    }
   ],
   "source": [
    "import numpy as np\n",
    "import pandas as pd\n",
    "import tensorflow as tf\n",
    "import sklearn.datasets"
   ]
  },
  {
   "cell_type": "code",
   "execution_count": 2,
   "metadata": {},
   "outputs": [],
   "source": [
    "iris = sklearn.datasets.load_iris()\n",
    "x, y = iris.data, iris.target\n",
    "y = pd.get_dummies(y).values"
   ]
  },
  {
   "cell_type": "code",
   "execution_count": 10,
   "metadata": {},
   "outputs": [],
   "source": [
    "def model(x, y):\n",
    "    a1 = tf.layers.dense(x, 128, activation=tf.nn.tanh, use_bias=True)\n",
    "    a2 = tf.layers.dense(a1, 32, activation=tf.nn.tanh, use_bias=True)\n",
    "    y_hat = tf.layers.dense(a2, 3, activation=tf.sigmoid, use_bias=True)\n",
    "    loss = tf.reduce_mean(tf.nn.softmax_cross_entropy_with_logits(labels=y, logits=y_hat))\n",
    "    correct_pred = tf.equal(tf.argmax(y_hat, 1), tf.argmax(y, 1), name='correct_pred')  \n",
    "    accuracy = tf.reduce_mean(tf.cast(correct_pred, tf.float32))\n",
    "    return loss, accuracy"
   ]
  },
  {
   "cell_type": "code",
   "execution_count": 11,
   "metadata": {},
   "outputs": [],
   "source": [
    "def average_gradients_my(tower_grads):\n",
    "    average_grads = []\n",
    "    for grad_and_vars in zip(*tower_grads):\n",
    "        grads = []\n",
    "        for _, g in grad_and_vars:\n",
    "            expanded_g = tf.expand_dims(g, 0)\n",
    "            grads.append(expanded_g)\n",
    "        # Average over the 'tower' dimension.\n",
    "        grad = tf.concat(axis=0, values=grads)\n",
    "        grad = tf.reduce_mean(grad, 0)\n",
    "        # Keep in mind that the Variables are redundant because they are shared\n",
    "        # across towers. So .. we will just return the first tower's pointer to\n",
    "        # the Variable.\n",
    "        v = grad_and_vars[0][1]\n",
    "        grad_and_var = (grad, v)\n",
    "        average_grads.append(grad_and_var)\n",
    "    return average_grads"
   ]
  },
  {
   "cell_type": "code",
   "execution_count": 12,
   "metadata": {},
   "outputs": [],
   "source": [
    "config = tf.ConfigProto()\n",
    "config.gpu_options.allow_growth = True\n",
    "config.allow_soft_placement = True\n",
    "config.gpu_options.per_process_gpu_memory_fraction = 0.5 \n",
    "config.log_device_placement = True"
   ]
  },
  {
   "cell_type": "markdown",
   "metadata": {},
   "source": [
    "# 多GPU"
   ]
  },
  {
   "cell_type": "code",
   "execution_count": 17,
   "metadata": {},
   "outputs": [
    {
     "name": "stdout",
     "output_type": "stream",
     "text": [
      "on gpu:0\n",
      "on gpu:1\n",
      "on gpu:2\n",
      "on gpu:3\n",
      "500 : 1.0794 : 0.4062 \n",
      "1000 : 1.0796 : 0.4219 \n",
      "1500 : 1.1235 : 0.2656 \n",
      "2000 : 1.0957 : 0.4375 \n",
      "2500 : 1.2065 : 0.2812 \n",
      "3000 : 1.1706 : 0.1875 \n",
      "3500 : 1.0843 : 0.4219 \n",
      "4000 : 1.1324 : 0.3281 \n",
      "4500 : 1.0946 : 0.3438 \n",
      "5000 : 1.0756 : 0.4062 \n",
      "5500 : 1.1791 : 0.2500 \n",
      "6000 : 1.1340 : 0.2656 \n",
      "6500 : 1.0550 : 0.4062 \n",
      "7000 : 1.1651 : 0.3125 \n",
      "7500 : 1.1212 : 0.3281 \n",
      "8000 : 1.1056 : 0.3594 \n",
      "8500 : 1.1605 : 0.2969 \n",
      "9000 : 1.1322 : 0.2500 \n",
      "9500 : 1.0631 : 0.4531 \n",
      "10000 : 1.1762 : 0.2344 \n"
     ]
    }
   ],
   "source": [
    "with tf.device('/cpu:0'):\n",
    "    dataset = tf.data.Dataset.from_tensor_slices((x, y)).repeat(5000).shuffle(buffer_size=128).batch(64)\n",
    "    iter_ds = dataset.make_one_shot_iterator()\n",
    "    opt = tf.train.GradientDescentOptimizer(0.01)\n",
    "    grads = []\n",
    "    for i in range(4):\n",
    "        with tf.device('/gpu:%d' % i):\n",
    "            print 'on gpu:' + str(i)\n",
    "            xx, yy = iter_ds.get_next()\n",
    "            loss, accuracy = model(xx, yy)\n",
    "            grad_var = opt.compute_gradients(loss)\n",
    "            grads.append(grad_var)\n",
    "    avg_grad = average_gradients_my(grads)\n",
    "    train_op = opt.apply_gradients(avg_grad)\n",
    "    # \n",
    "    sess = tf.Session(config=config)\n",
    "    sess.run(tf.global_variables_initializer())\n",
    "    try:\n",
    "        for i in range(10000):\n",
    "            _loss,_accuracy, _ = sess.run([loss, accuracy, train_op])\n",
    "            if (i+1) % 500 == 0:\n",
    "                print '%d : %.4f : %.4f ' % (i + 1, _loss, _accuracy)\n",
    "    except:\n",
    "        print 'end'"
   ]
  },
  {
   "cell_type": "markdown",
   "metadata": {},
   "source": [
    "# CPU"
   ]
  },
  {
   "cell_type": "code",
   "execution_count": 16,
   "metadata": {},
   "outputs": [
    {
     "name": "stdout",
     "output_type": "stream",
     "text": [
      "500 : 0.7370 : 0.5625 \n",
      "1000 : 0.7016 : 0.6094 \n",
      "1500 : 0.6433 : 0.8438 \n",
      "2000 : 0.6897 : 0.7188 \n",
      "2500 : 0.6622 : 0.8281 \n",
      "3000 : 0.6761 : 0.8125 \n",
      "3500 : 0.7066 : 0.7969 \n",
      "4000 : 0.6566 : 0.8438 \n",
      "4500 : 0.6697 : 0.9062 \n",
      "5000 : 0.7004 : 0.7969 \n",
      "5500 : 0.6920 : 0.8438 \n",
      "6000 : 0.6334 : 0.9219 \n",
      "6500 : 0.6752 : 0.9219 \n",
      "7000 : 0.6452 : 0.9375 \n",
      "7500 : 0.6513 : 0.9062 \n",
      "8000 : 0.6893 : 0.9219 \n",
      "8500 : 0.6657 : 0.9062 \n",
      "9000 : 0.6359 : 0.9375 \n",
      "9500 : 0.6575 : 0.9375 \n",
      "10000 : 0.6740 : 0.9062 \n"
     ]
    }
   ],
   "source": [
    "with tf.device('/cpu:0'):\n",
    "    dataset = tf.data.Dataset.from_tensor_slices((x, y)).repeat(5000).shuffle(buffer_size=128).batch(64)\n",
    "    iter_ds = dataset.make_one_shot_iterator()\n",
    "    xx, yy = iter_ds.get_next()\n",
    "    loss, accuracy = model(xx, yy)\n",
    "    train_op = tf.train.GradientDescentOptimizer(0.05).minimize(loss)\n",
    "    # \n",
    "    sess = tf.Session(config=config)\n",
    "    sess.run(tf.global_variables_initializer())\n",
    "    try:\n",
    "        for i in range(10000):\n",
    "            _loss,_accuracy, _ = sess.run([loss, accuracy, train_op])\n",
    "            if (i+1) % 500 == 0:\n",
    "                print '%d : %.4f : %.4f ' % (i + 1, _loss, _accuracy)\n",
    "    except:\n",
    "        print 'end'"
   ]
  },
  {
   "cell_type": "code",
   "execution_count": null,
   "metadata": {},
   "outputs": [],
   "source": []
  }
 ],
 "metadata": {
  "kernelspec": {
   "display_name": "Python 2",
   "language": "python",
   "name": "python2"
  },
  "language_info": {
   "codemirror_mode": {
    "name": "ipython",
    "version": 2
   },
   "file_extension": ".py",
   "mimetype": "text/x-python",
   "name": "python",
   "nbconvert_exporter": "python",
   "pygments_lexer": "ipython2",
   "version": "2.7.5"
  }
 },
 "nbformat": 4,
 "nbformat_minor": 2
}
