{
 "cells": [
  {
   "cell_type": "code",
   "execution_count": 1,
   "metadata": {},
   "outputs": [
    {
     "name": "stderr",
     "output_type": "stream",
     "text": [
      "/usr/lib64/python2.7/site-packages/h5py/__init__.py:36: FutureWarning: Conversion of the second argument of issubdtype from `float` to `np.floating` is deprecated. In future, it will be treated as `np.float64 == np.dtype(float).type`.\n",
      "  from ._conv import register_converters as _register_converters\n"
     ]
    }
   ],
   "source": [
    "import numpy as np\n",
    "import tensorflow as tf\n",
    "import sklearn.datasets"
   ]
  },
  {
   "cell_type": "code",
   "execution_count": 2,
   "metadata": {},
   "outputs": [],
   "source": [
    "x = np.linspace(1,100,100).reshape([100,1])\n",
    "y = x * 2.0 - 1.5 + 0.2 * np.random.randn()"
   ]
  },
  {
   "cell_type": "code",
   "execution_count": 3,
   "metadata": {},
   "outputs": [],
   "source": [
    "def regression_model(x, y):\n",
    "    with tf.variable_scope('regress_model') as scope:\n",
    "        y_hat = tf.layers.dense(x, 1, activation=None, use_bias=True)\n",
    "        mean_loss = tf.reduce_mean(tf.square(y_hat - y))\n",
    "        tf.add_to_collection('losses', mean_loss)\n",
    "        total_loss = tf.add_n(tf.get_collection('losses'), name='total_loss')\n",
    "    return total_loss"
   ]
  },
  {
   "cell_type": "code",
   "execution_count": 4,
   "metadata": {},
   "outputs": [],
   "source": [
    "def average_gradients_my(tower_grads):\n",
    "    average_grads = []\n",
    "    for grad_and_vars in zip(*tower_grads):\n",
    "#         if len(grad_and_vars)==0 or grad_and_vars[0][0] is None:\n",
    "#             continue\n",
    "        grads = []\n",
    "        for g, _ in grad_and_vars:\n",
    "            expanded_g = tf.expand_dims(g, 0)\n",
    "            grads.append(expanded_g)\n",
    "        # Average over the 'tower' dimension.\n",
    "        grad = tf.concat(axis=0, values=grads)\n",
    "#         print 'shape BEFORE reduce mean:'+str(grad.get_shape())\n",
    "        grad = tf.reduce_mean(grad, 0)\n",
    "#         print 'shape after reduce mean:'+str(grad.get_shape())\n",
    "        # Attention that the Variables are redundant because they are shared\n",
    "        # across towers. So .. we will just return the first tower's pointer to\n",
    "        # the Variable.\n",
    "        v = grad_and_vars[0][1]\n",
    "        grad_and_var = (grad, v)\n",
    "        average_grads.append(grad_and_var)\n",
    "    return average_grads"
   ]
  },
  {
   "cell_type": "code",
   "execution_count": 5,
   "metadata": {},
   "outputs": [],
   "source": [
    "config = tf.ConfigProto()\n",
    "config.gpu_options.allow_growth = True\n",
    "config.allow_soft_placement = True\n",
    "config.gpu_options.per_process_gpu_memory_fraction = 0.5 \n",
    "config.log_device_placement = True"
   ]
  },
  {
   "cell_type": "markdown",
   "metadata": {},
   "source": [
    "# 多GPU"
   ]
  },
  {
   "cell_type": "code",
   "execution_count": 6,
   "metadata": {},
   "outputs": [
    {
     "name": "stdout",
     "output_type": "stream",
     "text": [
      "on gpu:0\n",
      "on gpu:1\n",
      "on gpu:2\n",
      "on gpu:3\n",
      "500 : 499.16913431\n",
      "1000 : 17.76827216\n",
      "1500 : 18.32002711\n",
      "2000 : 16.10967602\n",
      "2500 : 13.56527992\n",
      "3000 : 12.27010479\n",
      "3500 : 9.53923743\n",
      "4000 : 7.41220514\n",
      "4500 : 5.02793317\n",
      "5000 : 3.06279595\n",
      "5500 : 1.68188442\n",
      "6000 : 0.74586814\n",
      "6500 : 0.27757217\n",
      "7000 : 0.07693048\n",
      "7500 : 0.01599540\n",
      "8000 : 0.00155063\n",
      "8500 : 0.00010204\n",
      "9000 : 0.00000272\n",
      "9500 : 0.00000003\n",
      "10000 : 0.00000000\n"
     ]
    }
   ],
   "source": [
    "with tf.Graph().as_default(), tf.device('/cpu:0'):\n",
    "    global_step = tf.get_variable(\n",
    "        'global_step', [],\n",
    "        initializer=tf.constant_initializer(0), trainable=False)\n",
    "    dataset = tf.data.Dataset.from_tensor_slices((x, y)).repeat(50000).shuffle(buffer_size=128).batch(64)\n",
    "    iter_ds = dataset.make_one_shot_iterator()\n",
    "    opt = tf.train.AdamOptimizer(0.01)\n",
    "    grads = []\n",
    "    with tf.variable_scope(tf.get_variable_scope(), reuse=tf.AUTO_REUSE):\n",
    "        for i in range(4):\n",
    "            with tf.device('/gpu:%d' % i):\n",
    "#                 with tf.name_scope('%s_%d' % (\"tower\", i)) as scope:\n",
    "                    print 'on gpu:' + str(i)\n",
    "                    x, y = iter_ds.get_next()\n",
    "                    loss = regression_model(x, y)\n",
    "                    grad_var = opt.compute_gradients(loss)\n",
    "#                     for g,v in grad_var:\n",
    "#                         print '--------------------------'\n",
    "#                         print g, v\n",
    "#                     print '==============================================='\n",
    "                    grads.append(grad_var)\n",
    "    avg_grad = average_gradients_my(grads)\n",
    "#     print avg_grad\n",
    "    train_op = opt.apply_gradients(avg_grad, global_step=global_step)\n",
    "    # run\n",
    "    sess = tf.Session(config=config)\n",
    "    sess.run(tf.global_variables_initializer())\n",
    "    try:\n",
    "        for i in range(10000):\n",
    "            _loss, _ = sess.run([loss, train_op])\n",
    "            if (i+1) % 500 == 0:\n",
    "                print '%d : %.8f' % (i + 1, _loss)\n",
    "    except:\n",
    "        print 'end'"
   ]
  },
  {
   "cell_type": "markdown",
   "metadata": {},
   "source": [
    "# CPU"
   ]
  },
  {
   "cell_type": "code",
   "execution_count": null,
   "metadata": {},
   "outputs": [],
   "source": [
    "with tf.device('/cpu:0'):\n",
    "    dataset = tf.data.Dataset.from_tensor_slices((x, y)).repeat(6400).shuffle(buffer_size=128).batch(64)\n",
    "    iter_ds = dataset.make_one_shot_iterator()\n",
    "    loss = regression_model(iter_ds)\n",
    "    train_op = tf.train.AdamOptimizer(0.01).minimize(loss)\n",
    "    # \n",
    "    sess = tf.Session(config=config)\n",
    "    sess.run(tf.global_variables_initializer())\n",
    "    try:\n",
    "        for i in range(10000):\n",
    "            _loss, _ = sess.run([loss, train_op])\n",
    "            if (i+1) % 500 == 0:\n",
    "                print '%d : %.8f' % (i + 1, _loss)\n",
    "    except:\n",
    "        print 'end'"
   ]
  },
  {
   "cell_type": "code",
   "execution_count": null,
   "metadata": {},
   "outputs": [],
   "source": []
  }
 ],
 "metadata": {
  "kernelspec": {
   "display_name": "Python 2",
   "language": "python",
   "name": "python2"
  },
  "language_info": {
   "codemirror_mode": {
    "name": "ipython",
    "version": 2
   },
   "file_extension": ".py",
   "mimetype": "text/x-python",
   "name": "python",
   "nbconvert_exporter": "python",
   "pygments_lexer": "ipython2",
   "version": "2.7.5"
  }
 },
 "nbformat": 4,
 "nbformat_minor": 2
}
