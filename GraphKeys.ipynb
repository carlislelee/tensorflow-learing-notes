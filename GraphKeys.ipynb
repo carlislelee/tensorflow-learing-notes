{
 "cells": [
  {
   "cell_type": "markdown",
   "metadata": {},
   "source": [
    "### GraphKeys是tensorflow提供的快捷var collection名称集合"
   ]
  },
  {
   "cell_type": "code",
   "execution_count": 1,
   "metadata": {},
   "outputs": [
    {
     "name": "stdout",
     "output_type": "stream",
     "text": [
      "1.5.0\n"
     ]
    }
   ],
   "source": [
    "import tensorflow as tf\n",
    "print(tf.__version__)"
   ]
  },
  {
   "cell_type": "markdown",
   "metadata": {},
   "source": [
    "### GraphKeys.GLOBAL_VARIABLES\n",
    "\n",
    "创建variable时如果不指定collection，默认在global_variable中"
   ]
  },
  {
   "cell_type": "code",
   "execution_count": 3,
   "metadata": {},
   "outputs": [
    {
     "name": "stdout",
     "output_type": "stream",
     "text": [
      "global/a:0 : (2, 2) : [[ 0.15768862  1.1147696 ]\n",
      " [-0.7870022  -0.3050092 ]]\n",
      "global/b:0 : (4,) : [ 0.06532174  0.70661515 -0.7400249   0.05527544]\n"
     ]
    }
   ],
   "source": [
    "with tf.variable_scope(\"global\",reuse=tf.AUTO_REUSE) as scope:\n",
    "    a = tf.get_variable(\"a\", [2,2])\n",
    "    b = tf.get_variable(\"b\", [4])\n",
    "    c = tf.get_variable(\"c\", [6], collections=[\"my_coll\"])\n",
    "with tf.Session() as sess:\n",
    "    sess.run(tf.global_variables_initializer())\n",
    "    gv = tf.get_collection(tf.GraphKeys.GLOBAL_VARIABLES)\n",
    "    for v in gv:\n",
    "        print(\"%s : %s : %s\" % (v.name, v.get_shape(), sess.run(v)))"
   ]
  },
  {
   "cell_type": "markdown",
   "metadata": {},
   "source": [
    "### GraphKeys.REGULARIZATION_LOSSES"
   ]
  },
  {
   "cell_type": "code",
   "execution_count": 4,
   "metadata": {},
   "outputs": [
    {
     "name": "stdout",
     "output_type": "stream",
     "text": [
      "graph/truediv:0 : 0.7\n"
     ]
    }
   ],
   "source": [
    "with tf.variable_scope(\"graph\", reuse=tf.AUTO_REUSE) as scope:\n",
    "    #sess.run(tf.global_variables_initializer())\n",
    "    weight_decay=0.1  \n",
    "    tmp=tf.constant([0,1,2,3],dtype=tf.float32)  \n",
    "    \"\"\" \n",
    "    l2_reg=tf.contrib.layers.l2_regularizer(weight_decay) \n",
    "    a=tf.get_variable(\"I_am_a\",regularizer=l2_reg,initializer=tmp)  \n",
    "    \"\"\"  \n",
    "    #**上面代码的等价代码  \n",
    "    a=tf.get_variable(\"I_am_a\",initializer=tmp)  \n",
    "    a2=tf.reduce_sum(a*a)*weight_decay/2;  \n",
    "    a3=tf.get_variable(a.name.split(\":\")[0]+\"/Regularizer/l2_regularizer\",initializer=a2)  \n",
    "    tf.add_to_collection(tf.GraphKeys.REGULARIZATION_LOSSES,a2)  \n",
    "with tf.Session() as sess:\n",
    "    sess.run(tf.global_variables_initializer())  \n",
    "    keys = tf.get_collection(tf.GraphKeys.REGULARIZATION_LOSSES)  \n",
    "    for key in keys:\n",
    "        print(\"%s : %s\" %(key.name,sess.run(key))) \n",
    "    scope.reuse_variables()\n",
    "    "
   ]
  }
 ],
 "metadata": {
  "kernelspec": {
   "display_name": "Python 2",
   "language": "python",
   "name": "python2"
  },
  "language_info": {
   "codemirror_mode": {
    "name": "ipython",
    "version": 2
   },
   "file_extension": ".py",
   "mimetype": "text/x-python",
   "name": "python",
   "nbconvert_exporter": "python",
   "pygments_lexer": "ipython2",
   "version": "2.7.5"
  }
 },
 "nbformat": 4,
 "nbformat_minor": 2
}
