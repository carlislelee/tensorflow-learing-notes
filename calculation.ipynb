{
 "cells": [
  {
   "cell_type": "code",
   "execution_count": 1,
   "metadata": {},
   "outputs": [
    {
     "name": "stderr",
     "output_type": "stream",
     "text": [
      "/usr/lib64/python2.7/site-packages/h5py/__init__.py:36: FutureWarning: Conversion of the second argument of issubdtype from `float` to `np.floating` is deprecated. In future, it will be treated as `np.float64 == np.dtype(float).type`.\n",
      "  from ._conv import register_converters as _register_converters\n"
     ]
    }
   ],
   "source": [
    "import numpy as np\n",
    "import tensorflow as tf"
   ]
  },
  {
   "cell_type": "markdown",
   "metadata": {},
   "source": [
    "# 四则运算"
   ]
  },
  {
   "cell_type": "markdown",
   "metadata": {},
   "source": [
    "### add() 和 +"
   ]
  },
  {
   "cell_type": "code",
   "execution_count": 61,
   "metadata": {},
   "outputs": [
    {
     "name": "stdout",
     "output_type": "stream",
     "text": [
      "[[3 3]\n",
      " [3 3]]\n",
      "[[3 3]\n",
      " [3 3]]\n"
     ]
    }
   ],
   "source": [
    "x = tf.constant([[1,2],[1,2]])\n",
    "y = tf.constant([2,1])\n",
    "with tf.Session() as sess:\n",
    "    print sess.run(tf.add(x,y))\n",
    "    print sess.run(x + y)"
   ]
  },
  {
   "cell_type": "markdown",
   "metadata": {},
   "source": [
    "### subtract() 和 -"
   ]
  },
  {
   "cell_type": "code",
   "execution_count": 64,
   "metadata": {},
   "outputs": [
    {
     "name": "stdout",
     "output_type": "stream",
     "text": [
      "[[-1  1]\n",
      " [-1  1]]\n",
      "[[-1  1]\n",
      " [-1  1]]\n"
     ]
    }
   ],
   "source": [
    "x = tf.constant([[1,2],[1,2]])\n",
    "y = tf.constant([2,1])\n",
    "with tf.Session() as sess:\n",
    "    print sess.run(tf.subtract(x,y))\n",
    "    print sess.run(x - y)"
   ]
  },
  {
   "cell_type": "markdown",
   "metadata": {
    "collapsed": true
   },
   "source": [
    "### multiply()"
   ]
  },
  {
   "cell_type": "code",
   "execution_count": 68,
   "metadata": {},
   "outputs": [
    {
     "name": "stdout",
     "output_type": "stream",
     "text": [
      "[[20]\n",
      " [47]]\n",
      "[[ 3  4  3]\n",
      " [24 25 24]]\n",
      "[[ 3  4  3]\n",
      " [24 25 24]]\n"
     ]
    }
   ],
   "source": [
    "x = tf.constant([[1,2,3],[4,5,6]])\n",
    "y = tf.constant([[2],[3],[4]])\n",
    "z = tf.constant([[3,2,1],[6,5,4]])\n",
    "with tf.Session() as sess:\n",
    "    print sess.run(tf.matmul(x,y)) # 矩阵乘法\n",
    "    print sess.run(tf.multiply(x,z)) # 按位相乘\n",
    "    print sess.run(x * z) # 按位相乘"
   ]
  },
  {
   "cell_type": "markdown",
   "metadata": {},
   "source": [
    "### div divide 和 /"
   ]
  },
  {
   "cell_type": "code",
   "execution_count": 8,
   "metadata": {},
   "outputs": [
    {
     "name": "stdout",
     "output_type": "stream",
     "text": [
      "[[1 0 0]\n",
      " [2 5 3]]\n",
      "[[1.         0.5        0.33333333]\n",
      " [2.         5.         3.        ]]\n",
      "[[1 0 0]\n",
      " [2 5 3]]\n",
      "----------------------\n",
      "[[1.         0.5        0.33333334]\n",
      " [2.         5.         3.        ]]\n",
      "[[1.         0.5        0.33333334]\n",
      " [2.         5.         3.        ]]\n",
      "[[1.         0.5        0.33333334]\n",
      " [2.         5.         3.        ]]\n"
     ]
    }
   ],
   "source": [
    "x = tf.constant([[1,2,3],[4,5,6]])\n",
    "y = tf.constant([[1,4,9],[2,1,2]])\n",
    "a = tf.constant([[1,2,3],[4,5,6]], dtype=tf.float32)\n",
    "b = tf.constant([[1,4,9],[2,1,2]], dtype=tf.float32)\n",
    "with tf.Session() as sess:\n",
    "    print sess.run(tf.div(x,y)) \n",
    "    print sess.run(tf.divide(x,y))\n",
    "    print sess.run(x / y)\n",
    "    print '----------------------'\n",
    "    print sess.run(tf.div(a, b))\n",
    "    print sess.run(tf.divide(a, b))\n",
    "    print sess.run(a / b) "
   ]
  },
  {
   "cell_type": "markdown",
   "metadata": {},
   "source": [
    "# ------------------------------------------------------------------------------"
   ]
  },
  {
   "cell_type": "code",
   "execution_count": 11,
   "metadata": {
    "collapsed": true
   },
   "outputs": [],
   "source": [
    "X = tf.placeholder(tf.float32, [None, 784])\n",
    "X_img = tf.reshape(X, [-1,28,28,1])\n",
    "Y = tf.placeholder(tf.float32, [None, 10])"
   ]
  },
  {
   "cell_type": "markdown",
   "metadata": {},
   "source": [
    "### tile(values=, shape=)"
   ]
  },
  {
   "cell_type": "code",
   "execution_count": 46,
   "metadata": {},
   "outputs": [
    {
     "name": "stdout",
     "output_type": "stream",
     "text": [
      "[[1 2 3]\n",
      " [4 5 6]]\n"
     ]
    }
   ],
   "source": [
    "t1 = tf.constant([1,2,3])\n",
    "t2 = tf.constant([4,5,6])\n",
    "t3 = tf.tile([t1, t2],[1,1])\n",
    "with tf.Session() as sess:\n",
    "    print sess.run(t3)"
   ]
  },
  {
   "cell_type": "markdown",
   "metadata": {},
   "source": [
    "### concat(values=, concat_dim=)"
   ]
  },
  {
   "cell_type": "code",
   "execution_count": 50,
   "metadata": {},
   "outputs": [
    {
     "name": "stdout",
     "output_type": "stream",
     "text": [
      "[[1 2 3]\n",
      " [4 5 6]]\n",
      "[[1 2 3 4 5 6]]\n"
     ]
    }
   ],
   "source": [
    "t1=tf.constant([[1,2,3]])  \n",
    "t2=tf.constant([[4,5,6]])\n",
    "t3 = tf.concat([t1, t2], 0) #==> [[1,2,3], [4,5,6], [7,8,9], [10,11,12]]\n",
    "t4 = tf.concat([t1, t2], 1) #==> [[1,2,3,7,8, 9], [4,5,6,10,11, 12]]\n",
    "with tf.Session() as sess:\n",
    "    print sess.run(t3)\n",
    "    print sess.run(t4)"
   ]
  },
  {
   "cell_type": "markdown",
   "metadata": {},
   "source": [
    "### reduce_sum(tensor=,axis=,keep_dims=)"
   ]
  },
  {
   "cell_type": "code",
   "execution_count": 51,
   "metadata": {},
   "outputs": [
    {
     "name": "stdout",
     "output_type": "stream",
     "text": [
      "[[1 2 3]\n",
      " [4 5 6]]\n",
      "[5 7 9]\n",
      "[[5 7 9]]\n",
      "[ 6 15]\n"
     ]
    }
   ],
   "source": [
    "x = tf.constant([[1,2,3],[4,5,6]])\n",
    "y = tf.reduce_sum(x,axis=0)\n",
    "yk = tf.reduce_sum(x,axis=0,keep_dims=True)\n",
    "z = tf.reduce_sum(x,axis=1)\n",
    "with tf.Session() as sess:\n",
    "    print sess.run(x)\n",
    "    print sess.run(y)\n",
    "    print sess.run(yk)\n",
    "    print sess.run(z)"
   ]
  },
  {
   "cell_type": "code",
   "execution_count": null,
   "metadata": {
    "collapsed": true
   },
   "outputs": [],
   "source": []
  }
 ],
 "metadata": {
  "kernelspec": {
   "display_name": "Python 2",
   "language": "python",
   "name": "python2"
  },
  "language_info": {
   "codemirror_mode": {
    "name": "ipython",
    "version": 2
   },
   "file_extension": ".py",
   "mimetype": "text/x-python",
   "name": "python",
   "nbconvert_exporter": "python",
   "pygments_lexer": "ipython2",
   "version": "2.7.5"
  }
 },
 "nbformat": 4,
 "nbformat_minor": 2
}
