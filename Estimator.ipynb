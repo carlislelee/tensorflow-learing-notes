{
 "cells": [
  {
   "cell_type": "code",
   "execution_count": 11,
   "metadata": {},
   "outputs": [],
   "source": [
    "#  Copyright 2016 The TensorFlow Authors. All Rights Reserved.\n",
    "#\n",
    "#  Licensed under the Apache License, Version 2.0 (the \"License\");\n",
    "#  you may not use this file except in compliance with the License.\n",
    "#  You may obtain a copy of the License at\n",
    "#\n",
    "#   http://www.apache.org/licenses/LICENSE-2.0\n",
    "#\n",
    "#  Unless required by applicable law or agreed to in writing, software\n",
    "#  distributed under the License is distributed on an \"AS IS\" BASIS,\n",
    "#  WITHOUT WARRANTIES OR CONDITIONS OF ANY KIND, either express or implied.\n",
    "#  See the License for the specific language governing permissions and\n",
    "#  limitations under the License.\n",
    "\"\"\"\n",
    "Example of using Estimator with multiple GPUs to distribute one model.\n",
    "This example only runs if you have multiple GPUs to assign to.\n",
    "\n",
    "\"\"\"\n",
    "\n",
    "from __future__ import absolute_import\n",
    "from __future__ import division\n",
    "from __future__ import print_function\n",
    "\n",
    "import numpy as np\n",
    "from sklearn import datasets\n",
    "from sklearn import metrics\n",
    "from sklearn import model_selection\n",
    "import tensorflow as tf\n",
    "\n",
    "X_FEATURE = 'x'  # Name of the input feature.\n",
    "\n",
    "\n",
    "def my_model(features, labels, mode):\n",
    "    \"\"\"DNN with three hidden layers, and dropout of 0.1 probability.\n",
    "  \n",
    "    Note: If you want to run this example with multiple GPUs, Cuda Toolkit 7.0 and\n",
    "    CUDNN 6.5 V2 from NVIDIA need to be installed beforehand.\n",
    "  \n",
    "    Args:\n",
    "      features: Dict of input `Tensor`.\n",
    "      labels: Label `Tensor`.\n",
    "      mode: One of `ModeKeys`.\n",
    "  \n",
    "    Returns:\n",
    "      `EstimatorSpec`.\n",
    "    \"\"\"\n",
    "    # Create three fully connected layers respectively of size 10, 20, and 10 with\n",
    "    # each layer having a dropout probability of 0.1.\n",
    "    net = features[X_FEATURE]\n",
    "    with tf.device('/device:GPU:1'):\n",
    "        for units in [10, 20, 10]:\n",
    "            net = tf.layers.dense(net, units=units, activation=tf.nn.relu)\n",
    "            net = tf.layers.dropout(net, rate=0.1)\n",
    "\n",
    "    with tf.device('/device:GPU:2'):\n",
    "        # Compute logits (1 per class).\n",
    "        logits = tf.layers.dense(net, 3, activation=None)\n",
    "\n",
    "        # Compute predictions.\n",
    "        predicted_classes = tf.argmax(logits, 1)\n",
    "        if mode == tf.estimator.ModeKeys.PREDICT:\n",
    "            predictions = {\n",
    "                'class': predicted_classes,\n",
    "                'prob': tf.nn.softmax(logits)\n",
    "            }\n",
    "            return tf.estimator.EstimatorSpec(mode, predictions=predictions)\n",
    "\n",
    "        # Convert the labels to a one-hot tensor of shape (length of features, 3)\n",
    "        # and with a on-value of 1 for each one-hot vector of length 3.\n",
    "        onehot_labels = tf.one_hot(labels, 3, 1, 0)\n",
    "        # Compute loss.\n",
    "        loss = tf.losses.softmax_cross_entropy(onehot_labels=onehot_labels, logits=logits)\n",
    "\n",
    "        # Create training op.\n",
    "        if mode == tf.estimator.ModeKeys.TRAIN:\n",
    "            optimizer = tf.train.AdagradOptimizer(learning_rate=0.1)\n",
    "            train_op = optimizer.minimize(loss, global_step=tf.train.get_global_step())\n",
    "            return tf.estimator.EstimatorSpec(mode, loss=loss, train_op=train_op)\n",
    "\n",
    "        # Compute evaluation metrics.\n",
    "        eval_metric_ops = {\n",
    "            'accuracy': tf.metrics.accuracy(\n",
    "                labels=labels, predictions=predicted_classes)\n",
    "        }\n",
    "        return tf.estimator.EstimatorSpec(\n",
    "            mode, loss=loss, eval_metric_ops=eval_metric_ops)\n"
   ]
  },
  {
   "cell_type": "code",
   "execution_count": 12,
   "metadata": {},
   "outputs": [
    {
     "name": "stdout",
     "output_type": "stream",
     "text": [
      "INFO:tensorflow:Using default config.\n",
      "WARNING:tensorflow:Using temporary folder as model directory: /tmp/tmpVIRRzp\n",
      "INFO:tensorflow:Using config: {'_save_checkpoints_secs': 600, '_session_config': None, '_keep_checkpoint_max': 5, '_task_type': 'worker', '_is_chief': True, '_cluster_spec': <tensorflow.python.training.server_lib.ClusterSpec object at 0xa78c110>, '_save_checkpoints_steps': None, '_keep_checkpoint_every_n_hours': 10000, '_service': None, '_num_ps_replicas': 0, '_tf_random_seed': None, '_master': '', '_num_worker_replicas': 1, '_task_id': 0, '_log_step_count_steps': 100, '_model_dir': '/tmp/tmpVIRRzp', '_save_summary_steps': 100}\n",
      "INFO:tensorflow:Create CheckpointSaverHook.\n",
      "INFO:tensorflow:Saving checkpoints for 1 into /tmp/tmpVIRRzp/model.ckpt.\n",
      "INFO:tensorflow:loss = 2.915372848510742, step = 1\n",
      "INFO:tensorflow:Saving checkpoints for 100 into /tmp/tmpVIRRzp/model.ckpt.\n",
      "INFO:tensorflow:Loss for final step: 0.1391492336988449.\n",
      "INFO:tensorflow:Restoring parameters from /tmp/tmpVIRRzp/model.ckpt-100\n",
      "Accuracy (sklearn): 0.966667\n",
      "INFO:tensorflow:Starting evaluation at 2018-03-09-10:05:40\n",
      "INFO:tensorflow:Restoring parameters from /tmp/tmpVIRRzp/model.ckpt-100\n",
      "INFO:tensorflow:Finished evaluation at 2018-03-09-10:05:40\n",
      "INFO:tensorflow:Saving dict for global step 100: accuracy = 0.96666664, global_step = 100, loss = 0.18189494\n",
      "Accuracy (tensorflow): 0.966667\n"
     ]
    }
   ],
   "source": [
    "\n",
    "iris = datasets.load_iris()\n",
    "x_train, x_test, y_train, y_test = model_selection.train_test_split(iris.data, iris.target, test_size=0.2, random_state=42)\n",
    "\n",
    "classifier = tf.estimator.Estimator(model_fn=my_model)\n",
    "\n",
    "# Train.\n",
    "train_input_fn = tf.estimator.inputs.numpy_input_fn(x={X_FEATURE: x_train}, y=y_train, num_epochs=None, shuffle=True)\n",
    "classifier.train(input_fn=train_input_fn, steps=100)\n",
    "\n",
    "# Predict.\n",
    "test_input_fn = tf.estimator.inputs.numpy_input_fn(x={X_FEATURE: x_test}, y=y_test, num_epochs=1, shuffle=False)\n",
    "predictions = classifier.predict(input_fn=test_input_fn)\n",
    "y_predicted = np.array(list(p['class'] for p in predictions))\n",
    "y_predicted = y_predicted.reshape(np.array(y_test).shape)\n",
    "\n",
    "# Score with sklearn.\n",
    "score = metrics.accuracy_score(y_test, y_predicted)\n",
    "print('Accuracy (sklearn): {0:f}'.format(score))\n",
    "\n",
    "# Score with tensorflow.\n",
    "scores = classifier.evaluate(input_fn=test_input_fn)\n",
    "print('Accuracy (tensorflow): {0:f}'.format(scores['accuracy']))"
   ]
  },
  {
   "cell_type": "code",
   "execution_count": 5,
   "metadata": {},
   "outputs": [
    {
     "data": {
      "text/plain": [
       "sklearn.datasets.base.Bunch"
      ]
     },
     "execution_count": 5,
     "metadata": {},
     "output_type": "execute_result"
    }
   ],
   "source": [
    "type(iris)"
   ]
  },
  {
   "cell_type": "code",
   "execution_count": 9,
   "metadata": {},
   "outputs": [
    {
     "data": {
      "text/plain": [
       "(150, 4)"
      ]
     },
     "execution_count": 9,
     "metadata": {},
     "output_type": "execute_result"
    }
   ],
   "source": [
    "iris.data.shape"
   ]
  },
  {
   "cell_type": "code",
   "execution_count": 7,
   "metadata": {},
   "outputs": [
    {
     "data": {
      "text/plain": [
       "['sepal length (cm)',\n",
       " 'sepal width (cm)',\n",
       " 'petal length (cm)',\n",
       " 'petal width (cm)']"
      ]
     },
     "execution_count": 7,
     "metadata": {},
     "output_type": "execute_result"
    }
   ],
   "source": [
    "iris.feature_names"
   ]
  },
  {
   "cell_type": "code",
   "execution_count": 10,
   "metadata": {},
   "outputs": [
    {
     "data": {
      "text/plain": [
       "(150,)"
      ]
     },
     "execution_count": 10,
     "metadata": {},
     "output_type": "execute_result"
    }
   ],
   "source": [
    "iris.target.shape"
   ]
  },
  {
   "cell_type": "code",
   "execution_count": null,
   "metadata": {},
   "outputs": [],
   "source": []
  }
 ],
 "metadata": {
  "kernelspec": {
   "display_name": "Python 2",
   "language": "python",
   "name": "python2"
  },
  "language_info": {
   "codemirror_mode": {
    "name": "ipython",
    "version": 2
   },
   "file_extension": ".py",
   "mimetype": "text/x-python",
   "name": "python",
   "nbconvert_exporter": "python",
   "pygments_lexer": "ipython2",
   "version": "2.7.5"
  }
 },
 "nbformat": 4,
 "nbformat_minor": 2
}
