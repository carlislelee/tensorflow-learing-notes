{
 "cells": [
  {
   "cell_type": "code",
   "execution_count": 1,
   "metadata": {},
   "outputs": [
    {
     "name": "stderr",
     "output_type": "stream",
     "text": [
      "/usr/lib64/python2.7/site-packages/h5py/__init__.py:36: FutureWarning: Conversion of the second argument of issubdtype from `float` to `np.floating` is deprecated. In future, it will be treated as `np.float64 == np.dtype(float).type`.\n",
      "  from ._conv import register_converters as _register_converters\n"
     ]
    }
   ],
   "source": [
    "#多台机器，每台机器有一个显卡、或者多个显卡，这种训练叫做分布式训练  \n",
    "import  tensorflow as tf  "
   ]
  },
  {
   "cell_type": "code",
   "execution_count": 2,
   "metadata": {},
   "outputs": [],
   "source": [
    "#现在假设我们有A、B、C、D四台机器，首先需要在各台机器上写一份代码，并跑起来，各机器上的代码内容大部分相同  \n",
    "# ，除了开始定义的时候，需要各自指定该台机器的task之外。以机器A为例子，A机器上的代码如下：  \n",
    "cluster=tf.train.ClusterSpec({  \n",
    "    \"worker\": [  \n",
    "        \"localhost:8880\",#格式 IP地址：端口号，第一台机器A的IP地址 ,在代码中需要用这台机器计算的时候，就要定义：/job:worker/task:0  \n",
    "        \"localhost:8881\"#第二台机器的IP地址 /job:worker/task:1  \n",
    "    ],  \n",
    "    \"ps\": [  \n",
    "        \"localhost:8882\",#第四台机器的IP地址 对应到代码块：/job:ps/task:0  \n",
    "    ]})  "
   ]
  },
  {
   "cell_type": "code",
   "execution_count": 3,
   "metadata": {},
   "outputs": [],
   "source": [
    "server=tf.train.Server(cluster,job_name='worker',task_index=0)#找到‘worker’名字下的，task0，也就是机器A"
   ]
  },
  {
   "cell_type": "code",
   "execution_count": 4,
   "metadata": {},
   "outputs": [],
   "source": [
    "with tf.device('/job:ps/task:0'):#参数定义在机器D上  \n",
    "    w=tf.get_variable('w',(2,2),tf.float32,initializer=tf.constant_initializer(2))  \n",
    "    b=tf.get_variable('b',(2,2),tf.float32,initializer=tf.constant_initializer(5))  \n",
    "  \n",
    "with tf.device('/job:worker/task:0/cpu:0'):#在机器A cpu上运行  \n",
    "    addwb=w+b  \n",
    "with tf.device('/job:worker/task:1/cpu:0'):#在机器B cpu上运行  \n",
    "    mutwb=w*b  "
   ]
  },
  {
   "cell_type": "code",
   "execution_count": null,
   "metadata": {},
   "outputs": [],
   "source": [
    "with tf.device(tf.train.replica_device_setter(worker_device='/job:worker/task:indexi',cluster=cluster)):"
   ]
  }
 ],
 "metadata": {
  "kernelspec": {
   "display_name": "Python 2",
   "language": "python",
   "name": "python2"
  },
  "language_info": {
   "codemirror_mode": {
    "name": "ipython",
    "version": 2
   },
   "file_extension": ".py",
   "mimetype": "text/x-python",
   "name": "python",
   "nbconvert_exporter": "python",
   "pygments_lexer": "ipython2",
   "version": "2.7.5"
  }
 },
 "nbformat": 4,
 "nbformat_minor": 2
}
