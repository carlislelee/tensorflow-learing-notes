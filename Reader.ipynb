{
 "cells": [
  {
   "cell_type": "code",
   "execution_count": 1,
   "metadata": {},
   "outputs": [
    {
     "name": "stderr",
     "output_type": "stream",
     "text": [
      "/usr/lib64/python2.7/site-packages/h5py/__init__.py:36: FutureWarning: Conversion of the second argument of issubdtype from `float` to `np.floating` is deprecated. In future, it will be treated as `np.float64 == np.dtype(float).type`.\n",
      "  from ._conv import register_converters as _register_converters\n"
     ]
    }
   ],
   "source": [
    "import tensorflow as tf\n",
    "config = tf.ConfigProto()\n",
    "config.gpu_options.allow_growth = True\n",
    "config.gpu_options.per_process_gpu_memory_fraction = 0.8\n",
    "config.log_device_placement = True"
   ]
  },
  {
   "cell_type": "markdown",
   "metadata": {},
   "source": [
    "# read csv"
   ]
  },
  {
   "cell_type": "code",
   "execution_count": 3,
   "metadata": {},
   "outputs": [
    {
     "name": "stdout",
     "output_type": "stream",
     "text": [
      "('data/1.csv:1', '1,lzx')\n",
      "('data/1.csv:2', '3,wzl')\n",
      "('data/1.csv:3', '2,carl')\n",
      "('There are', 3, 'examples')\n"
     ]
    }
   ],
   "source": [
    "filename_queue = tf.train.string_input_producer([\"data/1.csv\"], num_epochs=1)\n",
    "\n",
    "reader = tf.TextLineReader()\n",
    "\n",
    "filepath, value = reader.read(filename_queue)\n",
    "\n",
    "# set default value for different data type\n",
    "record_defaults = [[''] for _ in xrange(2)]\n",
    "\n",
    "tensor_list = tf.decode_csv(value, record_defaults=record_defaults, field_delim='\\001')\n",
    "with tf.Session(config=config) as sess:\n",
    "    sess.run(tf.local_variables_initializer())\n",
    "    tf.train.start_queue_runners()\n",
    "    num_examples = 0\n",
    "    try:\n",
    "        while True:\n",
    "            s_key, s_value = sess.run([filepath, value])\n",
    "            print( s_key, s_value)\n",
    "            num_examples += 1\n",
    "    except tf.errors.OutOfRangeError:\n",
    "        pass\n",
    "    print (\"There are\", num_examples, \"examples\")"
   ]
  },
  {
   "cell_type": "markdown",
   "metadata": {},
   "source": [
    "# read TFRecord"
   ]
  },
  {
   "cell_type": "code",
   "execution_count": 2,
   "metadata": {},
   "outputs": [],
   "source": [
    "reader = tf.TFRecordReader()\n",
    "\n",
    "filenames = ['/data01/user/caobaiyu/tensorflow/krRec/training.tfrecords']\n",
    "filequeue = tf.train.string_input_producer(filenames, shuffle=True)\n",
    "\n",
    "key, value = reader.read(filequeue)\n",
    "features = tf.parse_single_example(value,\n",
    "            features = {\n",
    "            'examp1': tf.FixedLenFeature([400], tf.float32),\n",
    "            'examp2': tf.FixedLenFeature([400], tf.float32)\n",
    "            })\n",
    "sample1 = features['examp1']\n",
    "sample2 = features['examp2']\n",
    "\n",
    "examp1Batch, examp2Batch = tf.train.shuffle_batch([sample1, sample2], \n",
    "                                                  batch_size=1,\n",
    "                                                  capacity=10, \n",
    "                                                  min_after_dequeue=5)"
   ]
  },
  {
   "cell_type": "code",
   "execution_count": 3,
   "metadata": {
    "scrolled": false
   },
   "outputs": [
    {
     "name": "stdout",
     "output_type": "stream",
     "text": [
      "('There are', 541790, 'examples')\n",
      "CPU times: user 6min 42s, sys: 59 s, total: 7min 41sERROR:tensorflow:Exception in QueueRunner: Enqueue operation was cancelled\n",
      "\t [[Node: input_producer/input_producer_EnqueueMany = QueueEnqueueManyV2[Tcomponents=[DT_STRING], timeout_ms=-1, _device=\"/job:localhost/replica:0/task:0/device:CPU:0\"](input_producer, input_producer/RandomShuffle)]]\n",
      "\n",
      "Wall time: 3min 17s\n",
      "ERROR:tensorflow:Exception in QueueRunner: Enqueue operation was cancelled\n",
      "\t [[Node: shuffle_batch/random_shuffle_queue_enqueue = QueueEnqueueV2[Tcomponents=[DT_FLOAT, DT_FLOAT], timeout_ms=-1, _device=\"/job:localhost/replica:0/task:0/device:CPU:0\"](shuffle_batch/random_shuffle_queue, ParseSingleExample/Squeeze_examp1/_7, ParseSingleExample/Squeeze_examp2/_9)]]\n"
     ]
    },
    {
     "name": "stderr",
     "output_type": "stream",
     "text": [
      "Exception in thread QueueRunnerThread-input_producer-input_producer/input_producer_EnqueueMany:\n",
      "Traceback (most recent call last):\n",
      "  File \"/usr/lib64/python2.7/threading.py\", line 811, in __bootstrap_inner\n",
      "    self.run()\n",
      "  File \"/usr/lib64/python2.7/threading.py\", line 764, in run\n",
      "    self.__target(*self.__args, **self.__kwargs)\n",
      "  File \"/usr/lib/python2.7/site-packages/tensorflow/python/training/queue_runner_impl.py\", line 238, in _run\n",
      "    enqueue_callable()\n",
      "  File \"/usr/lib/python2.7/site-packages/tensorflow/python/client/session.py\", line 1231, in _single_operation_run\n",
      "    target_list_as_strings, status, None)\n",
      "  File \"/usr/lib/python2.7/site-packages/tensorflow/python/framework/errors_impl.py\", line 473, in __exit__\n",
      "    c_api.TF_GetCode(self.status.status))\n",
      "CancelledError: Enqueue operation was cancelled\n",
      "\t [[Node: input_producer/input_producer_EnqueueMany = QueueEnqueueManyV2[Tcomponents=[DT_STRING], timeout_ms=-1, _device=\"/job:localhost/replica:0/task:0/device:CPU:0\"](input_producer, input_producer/RandomShuffle)]]\n",
      "\n",
      "Exception in thread QueueRunnerThread-shuffle_batch/random_shuffle_queue-shuffle_batch/random_shuffle_queue_enqueue:\n",
      "Traceback (most recent call last):\n",
      "  File \"/usr/lib64/python2.7/threading.py\", line 811, in __bootstrap_inner\n",
      "    self.run()\n",
      "  File \"/usr/lib64/python2.7/threading.py\", line 764, in run\n",
      "    self.__target(*self.__args, **self.__kwargs)\n",
      "  File \"/usr/lib/python2.7/site-packages/tensorflow/python/training/queue_runner_impl.py\", line 238, in _run\n",
      "    enqueue_callable()\n",
      "  File \"/usr/lib/python2.7/site-packages/tensorflow/python/client/session.py\", line 1231, in _single_operation_run\n",
      "    target_list_as_strings, status, None)\n",
      "  File \"/usr/lib/python2.7/site-packages/tensorflow/python/framework/errors_impl.py\", line 473, in __exit__\n",
      "    c_api.TF_GetCode(self.status.status))\n",
      "CancelledError: Enqueue operation was cancelled\n",
      "\t [[Node: shuffle_batch/random_shuffle_queue_enqueue = QueueEnqueueV2[Tcomponents=[DT_FLOAT, DT_FLOAT], timeout_ms=-1, _device=\"/job:localhost/replica:0/task:0/device:CPU:0\"](shuffle_batch/random_shuffle_queue, ParseSingleExample/Squeeze_examp1/_7, ParseSingleExample/Squeeze_examp2/_9)]]\n",
      "\n"
     ]
    }
   ],
   "source": [
    "%%time\n",
    "with tf.Session(config=config) as sess:\n",
    "    sess.run(tf.local_variables_initializer())\n",
    "    tf.train.start_queue_runners()\n",
    "    num_examples = 0\n",
    "    try:\n",
    "        while num_examples < 541790:\n",
    "            s1, s2 = sess.run([sample1, sample2])\n",
    "            num_examples += 1\n",
    "    except:\n",
    "       pass\n",
    "    print (\"There are\", num_examples, \"examples\")"
   ]
  },
  {
   "cell_type": "code",
   "execution_count": null,
   "metadata": {},
   "outputs": [],
   "source": []
  }
 ],
 "metadata": {
  "kernelspec": {
   "display_name": "Python 2",
   "language": "python",
   "name": "python2"
  },
  "language_info": {
   "codemirror_mode": {
    "name": "ipython",
    "version": 2
   },
   "file_extension": ".py",
   "mimetype": "text/x-python",
   "name": "python",
   "nbconvert_exporter": "python",
   "pygments_lexer": "ipython2",
   "version": "2.7.5"
  }
 },
 "nbformat": 4,
 "nbformat_minor": 2
}
