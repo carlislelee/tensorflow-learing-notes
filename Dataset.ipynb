{
 "cells": [
  {
   "cell_type": "code",
   "execution_count": null,
   "metadata": {},
   "outputs": [],
   "source": [
    "import tensorflow as tf\n",
    "import numpy as np\n",
    "config = tf.ConfigProto()\n",
    "config.gpu_options.allow_growth = True\n",
    "config.gpu_options.per_process_gpu_memory_fraction = 0.8\n",
    "config.log_device_placement = True"
   ]
  },
  {
   "cell_type": "markdown",
   "metadata": {},
   "source": [
    "# make & read data"
   ]
  },
  {
   "cell_type": "code",
   "execution_count": 5,
   "metadata": {},
   "outputs": [
    {
     "name": "stdout",
     "output_type": "stream",
     "text": [
      "<class 'tensorflow.python.data.ops.dataset_ops.RepeatDataset'>\n"
     ]
    }
   ],
   "source": [
    "dataset = tf.data.Dataset.from_tensor_slices([i for i in range(4)]).shuffle(buffer_size=8).repeat(2)\n",
    "iter = dataset.make_one_shot_iterator()\n",
    "\n",
    "with tf.Session() as sess:\n",
    "    try:\n",
    "        while True:\n",
    "            print sess.run(iter.get_next())\n",
    "    except:\n",
    "        print \"end\""
   ]
  },
  {
   "cell_type": "markdown",
   "metadata": {},
   "source": [
    "### dataset Transformation : map shuffle batch"
   ]
  },
  {
   "cell_type": "code",
   "execution_count": null,
   "metadata": {},
   "outputs": [],
   "source": [
    "dataset1 = dataset.map(lambda x : x + 1).batch(32).shuffle(buffer_size=100)\n",
    "iter1 = dataset1.make_one_shot_iterator()\n",
    "with tf.Session() as sess:\n",
    "    try:\n",
    "        while True:\n",
    "            print sess.run(iter1.get_next())\n",
    "    except:\n",
    "        print \"end\""
   ]
  },
  {
   "cell_type": "markdown",
   "metadata": {},
   "source": [
    "# read TFRecord on disk"
   ]
  },
  {
   "cell_type": "code",
   "execution_count": 21,
   "metadata": {},
   "outputs": [
    {
     "name": "stdout",
     "output_type": "stream",
     "text": [
      "end, 541790 records in total.\n",
      "CPU times: user 7min 3s, sys: 1min 8s, total: 8min 11s\n",
      "Wall time: 4min 21s\n"
     ]
    }
   ],
   "source": [
    "%%time\n",
    "record_dataset = tf.data.TFRecordDataset(['/data01/user/caobaiyu/tensorflow/krRec/training.tfrecords'], buffer_size=100)\n",
    "#record_dataset\n",
    "it = record_dataset.make_one_shot_iterator()\n",
    "rec = it.get_next()\n",
    "features = tf.parse_single_example(rec,\n",
    "            features = {\n",
    "            'examp1': tf.FixedLenFeature([400], tf.float32),\n",
    "            'examp2': tf.FixedLenFeature([400], tf.float32)\n",
    "            })\n",
    "sample1 = features['examp1']\n",
    "sample2 = features['examp2']\n",
    "with tf.Session(config=config) as sess:\n",
    "    sess.run(tf.global_variables_initializer())\n",
    "    num = 0\n",
    "    try:\n",
    "        while True:\n",
    "            a,b = sess.run([sample1, sample2])\n",
    "            num += 1\n",
    "    except:\n",
    "        print 'end, %d records in total.' % num"
   ]
  },
  {
   "cell_type": "code",
   "execution_count": 24,
   "metadata": {},
   "outputs": [
    {
     "name": "stdout",
     "output_type": "stream",
     "text": [
      "end, 541800 records in total.\n",
      "CPU times: user 6.35 s, sys: 1.45 s, total: 7.81 s\n",
      "Wall time: 3.7 s\n"
     ]
    }
   ],
   "source": [
    "%%time\n",
    "record_dataset = tf.data.TFRecordDataset(['/data01/user/caobaiyu/tensorflow/krRec/training.tfrecords'], buffer_size=1000).batch(200)\n",
    "#record_dataset\n",
    "it = record_dataset.make_one_shot_iterator()\n",
    "rec = it.get_next()\n",
    "features = tf.parse_example(rec,\n",
    "            features = {\n",
    "            'examp1': tf.FixedLenFeature([400], tf.float32),\n",
    "            'examp2': tf.FixedLenFeature([400], tf.float32)\n",
    "            })\n",
    "sample1 = features['examp1']\n",
    "sample2 = features['examp2']\n",
    "with tf.Session(config=config) as sess:\n",
    "    sess.run(tf.global_variables_initializer())\n",
    "    num = 0\n",
    "    try:\n",
    "        while num < 600000:\n",
    "            a,b = sess.run([sample1, sample2])\n",
    "            num += 200\n",
    "    except:\n",
    "        pass\n",
    "    print 'end, %d records in total.' % num"
   ]
  },
  {
   "cell_type": "code",
   "execution_count": null,
   "metadata": {},
   "outputs": [],
   "source": []
  }
 ],
 "metadata": {
  "kernelspec": {
   "display_name": "Python 2",
   "language": "python",
   "name": "python2"
  },
  "language_info": {
   "codemirror_mode": {
    "name": "ipython",
    "version": 2
   },
   "file_extension": ".py",
   "mimetype": "text/x-python",
   "name": "python",
   "nbconvert_exporter": "python",
   "pygments_lexer": "ipython2",
   "version": "2.7.5"
  }
 },
 "nbformat": 4,
 "nbformat_minor": 2
}
